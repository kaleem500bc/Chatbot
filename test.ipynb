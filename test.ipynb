{
 "cells": [
  {
   "cell_type": "code",
   "execution_count": 2,
   "metadata": {},
   "outputs": [],
   "source": [
    "import requests\n",
    "import json"
   ]
  },
  {
   "cell_type": "markdown",
   "metadata": {},
   "source": [
    "### Test GPT module endpoint"
   ]
  },
  {
   "cell_type": "code",
   "execution_count": 3,
   "metadata": {},
   "outputs": [
    {
     "name": "stdout",
     "output_type": "stream",
     "text": [
      " I have a few questions about it, but they are all answered here: http://www-gpt.org/docs/#GPS_Module\n",
      "The first question is whether or not you can use this to make your own custom modules for any of these platforms (e., Windows Phone 8). The answer depends on what platform and how many people want them installed in their system; if so then there's no need as long as everyone has access via an internet connection at home! If that doesn't work out though, please let me know by emailing support@microsoftforumsforum[at]gmail.[dot][com].\n"
     ]
    }
   ],
   "source": [
    "data = json.dumps({\"user_input\":\"I am testing the GPT module.\"})\n",
    "url = \"http://localhost:5002/\"\n",
    "\n",
    "headers = {'Content-type': 'application/json', 'Accept': 'text/plain'}\n",
    "response = requests.post(url, data=data, headers=headers).json()\n",
    "print(response[\"response\"])"
   ]
  },
  {
   "cell_type": "markdown",
   "metadata": {},
   "source": [
    "### Test whisper module endpoint"
   ]
  },
  {
   "cell_type": "code",
   "execution_count": null,
   "metadata": {},
   "outputs": [],
   "source": [
    "from pydub import AudioSegment\n",
    "import numpy as np\n",
    "import base64\n",
    "# Specify the path to your .wav file\n",
    "audio_path = \"audio.wav\"\n",
    "\n",
    "# Use IPython's Audio class to play the audio\n",
    "audio = AudioSegment.from_file(audio_path)\n",
    "# audio_np = np.array(audio.get_array_of_samples())\n",
    "\n",
    "audio_raw = audio.raw_data\n",
    "audio_raw = base64.b64encode(audio_raw).decode('utf-8')\n",
    "\n",
    "url = \"http://localhost:5002/\"\n",
    "response = requests.post(url, data=json.dumps({\"audio_blob\":audio_raw})).json()\n"
   ]
  },
  {
   "cell_type": "code",
   "execution_count": null,
   "metadata": {},
   "outputs": [],
   "source": [
    "import requests\n",
    "from pydub import AudioSegment\n",
    "audio = AudioSegment.from_file(\"audio.wav\")\n",
    "# audio_np = np.array(audio.get_array_of_samples())\n",
    "\n",
    "audio_raw = audio.raw_data\n",
    "# audio_raw = base64.b64encode(audio_raw).decode('utf-8')\n",
    "url = 'http://localhost:5002/whisper'  # Replace with your server's URL\n",
    "files = {'audio_blob': audio_raw}  # Specify the path to your .wav file\n",
    "\n",
    "response = requests.post(url, files=files)\n",
    "\n",
    "if response.status_code == 200:\n",
    "    print('File uploaded successfully')\n",
    "else:\n",
    "    print('Failed to upload file:', response.status_code, response.text)\n"
   ]
  },
  {
   "cell_type": "code",
   "execution_count": 17,
   "metadata": {},
   "outputs": [
    {
     "name": "stdout",
     "output_type": "stream",
     "text": [
      "2 44100 2\n"
     ]
    }
   ],
   "source": [
    "audio = AudioSegment.from_file(\"audio.wav\")\n",
    "# audio_np = np.array(audio.get_array_of_samples())\n",
    "\n",
    "print(audio.sample_width, audio.frame_rate, audio.channels)"
   ]
  },
  {
   "cell_type": "code",
   "execution_count": 11,
   "metadata": {},
   "outputs": [
    {
     "data": {
      "text/plain": [
       "{'response': '{\"response\": \"Oh, I know I am cool.\"}'}"
      ]
     },
     "execution_count": 11,
     "metadata": {},
     "output_type": "execute_result"
    }
   ],
   "source": [
    "response.json()"
   ]
  },
  {
   "cell_type": "code",
   "execution_count": null,
   "metadata": {},
   "outputs": [],
   "source": []
  }
 ],
 "metadata": {
  "kernelspec": {
   "display_name": "airflow_env",
   "language": "python",
   "name": "python3"
  },
  "language_info": {
   "codemirror_mode": {
    "name": "ipython",
    "version": 3
   },
   "file_extension": ".py",
   "mimetype": "text/x-python",
   "name": "python",
   "nbconvert_exporter": "python",
   "pygments_lexer": "ipython3",
   "version": "3.9.17"
  },
  "orig_nbformat": 4
 },
 "nbformat": 4,
 "nbformat_minor": 2
}
