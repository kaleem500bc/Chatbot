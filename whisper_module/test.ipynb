{
 "cells": [
  {
   "cell_type": "code",
   "execution_count": 1,
   "metadata": {},
   "outputs": [],
   "source": [
    "import requests\n",
    "import json"
   ]
  },
  {
   "cell_type": "markdown",
   "metadata": {},
   "source": [
    "### Test GPT module endpoint"
   ]
  },
  {
   "cell_type": "code",
   "execution_count": null,
   "metadata": {},
   "outputs": [],
   "source": [
    "data = json.dumps({\"user_input\":\"I am testing the GPT module.\"})\n",
    "url = \"http://localhost:5001/\"\n",
    "\n",
    "headers = {'Content-type': 'application/json', 'Accept': 'text/plain'}\n",
    "response = requests.post(url, data=data, headers=headers).json()\n",
    "print(response[\"response\"])"
   ]
  },
  {
   "cell_type": "markdown",
   "metadata": {},
   "source": [
    "### Test whisper module endpoint"
   ]
  },
  {
   "cell_type": "code",
   "execution_count": 10,
   "metadata": {},
   "outputs": [],
   "source": [
    "from pydub import AudioSegment\n",
    "import numpy as np\n",
    "from voicetotext import WhisperModule\n",
    "import base64\n",
    "wispher_model = WhisperModule()"
   ]
  },
  {
   "cell_type": "code",
   "execution_count": 12,
   "metadata": {},
   "outputs": [],
   "source": [
    "audio_path = \"1.wav\"\n",
    "audio = AudioSegment.from_file(audio_path)\n",
    "# preprocess audio\n",
    "preprocess_audio = audio.set_frame_rate(16000).set_channels(1)\n",
    "preprocess_audio = np.frombuffer(preprocess_audio.raw_data, np.int16).flatten().astype(np.float32) / 32768.0"
   ]
  },
  {
   "cell_type": "code",
   "execution_count": 13,
   "metadata": {},
   "outputs": [
    {
     "name": "stdout",
     "output_type": "stream",
     "text": [
      "{\"response\": \"How will you find? Thank you.\"}\n"
     ]
    }
   ],
   "source": [
    "print(wispher_model.transcribe(preprocess_audio))                                           "
   ]
  }
 ],
 "metadata": {
  "kernelspec": {
   "display_name": "airflow_env",
   "language": "python",
   "name": "python3"
  },
  "language_info": {
   "codemirror_mode": {
    "name": "ipython",
    "version": 3
   },
   "file_extension": ".py",
   "mimetype": "text/x-python",
   "name": "python",
   "nbconvert_exporter": "python",
   "pygments_lexer": "ipython3",
   "version": "3.9.17"
  },
  "orig_nbformat": 4
 },
 "nbformat": 4,
 "nbformat_minor": 2
}
